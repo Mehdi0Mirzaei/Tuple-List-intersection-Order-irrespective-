{
 "cells": [
  {
   "cell_type": "code",
   "execution_count": 6,
   "id": "d5e9c494",
   "metadata": {},
   "outputs": [
    {
     "name": "stdout",
     "output_type": "stream",
     "text": [
      "The original list 1 is : [(3, 4), (5, 6), (9, 10), (4, 5)]\n",
      "The original list 2 is : [(5, 4), (3, 4), (6, 5), (9, 11)]\n",
      "List after intersection : {(4, 5), (5, 6), (3, 4)}\n"
     ]
    }
   ],
   "source": [
    "# initializing lists\n",
    "test_list1 = [(3, 4), (5, 6), (9, 10), (4, 5)]\n",
    "test_list2 = [(5, 4), (3, 4), (6, 5), (9, 11)]\n",
    " \n",
    "# printing original list\n",
    "print(\"The original list 1 is : \" + str(test_list1))\n",
    "print(\"The original list 2 is : \" + str(test_list2))\n",
    " \n",
    "# Using sorted() + set() + & operator + list comprehension\n",
    "# Using & operator to intersect, sorting before performing intersection\n",
    "res = set([tuple(sorted(ele)) for ele in test_list1]) & set([tuple(sorted(ele)) for ele in test_list2])\n",
    " \n",
    "# printing result \n",
    "print(\"List after intersection : \" + str(res)) "
   ]
  },
  {
   "cell_type": "code",
   "execution_count": 7,
   "id": "b9453edd",
   "metadata": {},
   "outputs": [
    {
     "name": "stdout",
     "output_type": "stream",
     "text": [
      "The original list 1 is : [(3, 4), (5, 6), (9, 10), (4, 5)]\n",
      "The original list 2 is : [(5, 4), (3, 4), (6, 5), (9, 11)]\n",
      "List after intersection : {frozenset({4, 5}), frozenset({5, 6}), frozenset({3, 4})}\n"
     ]
    }
   ],
   "source": [
    "# initializing lists\n",
    "test_list1 = [(3, 4), (5, 6), (9, 10), (4, 5)]\n",
    "test_list2 = [(5, 4), (3, 4), (6, 5), (9, 11)]\n",
    " \n",
    "# printing original list\n",
    "print(\"The original list 1 is : \" + str(test_list1))\n",
    "print(\"The original list 2 is : \" + str(test_list2))\n",
    " \n",
    "# Using list comprehension + map() + frozenset() + & operator\n",
    "# frozenset used as map() requires hashable container, which \n",
    "# set is not, result in frozenset format\n",
    "res = set(map(frozenset, test_list1)) & set(map(frozenset, test_list2))\n",
    " \n",
    "# printing result \n",
    "print(\"List after intersection : \" + str(res)) "
   ]
  },
  {
   "cell_type": "code",
   "execution_count": 8,
   "id": "b7a6ff3d",
   "metadata": {},
   "outputs": [
    {
     "name": "stdout",
     "output_type": "stream",
     "text": [
      "The original list 1 is : [(3, 4), (5, 6), (9, 10), (4, 5)]\n",
      "The original list 2 is : [(5, 4), (3, 4), (6, 5), (9, 11)]\n",
      "List after intersection : [(4, 5), (5, 6), (3, 4)]\n"
     ]
    }
   ],
   "source": [
    "# initializing lists\n",
    "test_list1 = [(3, 4), (5, 6), (9, 10), (4, 5)]\n",
    "test_list2 = [(5, 4), (3, 4), (6, 5), (9, 11)]\n",
    " \n",
    "# printing original list\n",
    "print(\"The original list 1 is : \" + str(test_list1))\n",
    "print(\"The original list 2 is : \" + str(test_list2))\n",
    " \n",
    "# Using set() + frozenset() + intersection() + list comprehension\n",
    "set1 = set(frozenset(ele) for ele in test_list1)\n",
    "set2 = set(frozenset(ele) for ele in test_list2)\n",
    "res = [tuple(ele) for ele in (set1 & set2)]\n",
    " \n",
    "# printing result\n",
    "print(\"List after intersection : \" + str(res))"
   ]
  },
  {
   "cell_type": "code",
   "execution_count": 9,
   "id": "4e37f561",
   "metadata": {},
   "outputs": [
    {
     "name": "stdout",
     "output_type": "stream",
     "text": [
      "List after intersection: [(3, 4), (5, 6), (4, 5)]\n"
     ]
    }
   ],
   "source": [
    "\n",
    "\n",
    "# initializing lists\n",
    "test_list1 = [(3, 4), (5, 6), (9, 10), (4, 5)]\n",
    "test_list2 = [(5, 4), (3, 4), (6, 5), (9, 11)]\n",
    " \n",
    "# Creating an empty dictionary\n",
    "freq_dict = {}\n",
    " \n",
    "# Looping through the tuples in test_list1 and test_list2\n",
    "for tup in test_list1 + test_list2:\n",
    "    # Sorting the tuple and converting it to a string\n",
    "    sorted_tup_str = str(sorted(tup))\n",
    "     \n",
    "    # Checking if the string is already in freq_dict\n",
    "    if sorted_tup_str in freq_dict:\n",
    "        freq_dict[sorted_tup_str] += 1\n",
    "    else:\n",
    "        freq_dict[sorted_tup_str] = 1\n",
    " # Creating a list comprehension using the tuples that appear in both lists\n",
    "res = [tup for tup in test_list1 if freq_dict[str(sorted(tup))] >= 2]\n",
    " \n",
    "# Printing the resulting list\n",
    "print(\"List after intersection: \" + str(res))"
   ]
  },
  {
   "cell_type": "code",
   "execution_count": 10,
   "id": "c481a3c0",
   "metadata": {},
   "outputs": [
    {
     "name": "stdout",
     "output_type": "stream",
     "text": [
      "List after intersection : [(3, 4), (5, 6), (4, 5)]\n"
     ]
    }
   ],
   "source": [
    "# initializing lists\n",
    "test_list1 = [(3, 4), (5, 6), (9, 10), (4, 5)]\n",
    "test_list2 = [(5, 4), (3, 4), (6, 5), (9, 11)]\n",
    " \n",
    "# Using nested loops\n",
    "res = []\n",
    "for tup1 in test_list1:\n",
    "    for tup2 in test_list2:\n",
    "        if set(tup1) == set(tup2):\n",
    "            res.append(tup1)\n",
    " # printing result\n",
    "print(\"List after intersection : \" + str(res))"
   ]
  },
  {
   "cell_type": "code",
   "execution_count": null,
   "id": "047de8ec",
   "metadata": {},
   "outputs": [],
   "source": []
  }
 ],
 "metadata": {
  "kernelspec": {
   "display_name": "Python 3 (ipykernel)",
   "language": "python",
   "name": "python3"
  },
  "language_info": {
   "codemirror_mode": {
    "name": "ipython",
    "version": 3
   },
   "file_extension": ".py",
   "mimetype": "text/x-python",
   "name": "python",
   "nbconvert_exporter": "python",
   "pygments_lexer": "ipython3",
   "version": "3.9.13"
  }
 },
 "nbformat": 4,
 "nbformat_minor": 5
}
